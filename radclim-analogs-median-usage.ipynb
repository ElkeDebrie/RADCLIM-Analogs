{
 "cells": [
  {
   "cell_type": "markdown",
   "id": "68c9020f-a609-4932-a5e3-1d1a22c90ae6",
   "metadata": {},
   "source": [
    "# Exploring the RADCLIM Median Zarr archive"
   ]
  },
  {
   "cell_type": "markdown",
   "id": "49b8f531-e4ae-4482-b3e7-69dc25672590",
   "metadata": {},
   "source": [
    "### Abstract"
   ]
  },
  {
   "cell_type": "markdown",
   "id": "22eb330a-d24d-4d72-831e-abeabdff9aed",
   "metadata": {},
   "source": [
    "This notebook describes how to find the analogue dates and the median field for a given date between the 1st January 1940 and the 31st December 2016 in the **RADCLIM-Analogs-median** dataset. \n",
    "\n",
    "This dataset provides maps of the analogues median at 1 km resolution of the hourly accumulated precipitation over Belgium from 1940 to 2016. We used the analog technique to provide for every day in the past (1940 – 2016) the 25 best analogs selected from the high resolution RMI RADCLIM radar database that is available from 2017 to 2022. The median was then extracted from this ensemble.\n",
    "\n",
    "This notebook is provided as supplementary material for the article:\n",
    "\n",
    "* Debrie, E., Demaeyer, J., and Vannitsem, S.: Hourly precipitation series over Belgium based on the Analogue Technique, Earth Syst. Sci. Data Discuss. [preprint], doi:, in review, 2025.\n",
    "\n",
    "Before running this notebook, the dataset must first be downloaded from the Zenodo platform (https://doi.org/10.5281/zenodo.14965710) and installed following the installation instruction available there.\n",
    "\n",
    "\n",
    "\n"
   ]
  },
  {
   "cell_type": "markdown",
   "id": "33ff0fce-8a7a-44dd-94da-1c3a4e63d5cc",
   "metadata": {},
   "source": [
    "### Goal of the present notebook"
   ]
  },
  {
   "cell_type": "markdown",
   "id": "b00cbd09-e9c5-415d-9f8c-984e042a150c",
   "metadata": {},
   "source": [
    "In the present notebook, we are going to look for the analogue dates for a given date, and then plot the median precipitation field extracted from the RADCLIM data.\n"
   ]
  },
  {
   "cell_type": "markdown",
   "id": "95dc82d9-1e87-4454-89d9-4af3ab0a1b17",
   "metadata": {},
   "source": [
    "### Code"
   ]
  },
  {
   "cell_type": "markdown",
   "id": "625446c6-93c7-4d07-8b30-fbd43197a538",
   "metadata": {},
   "source": [
    "Imports"
   ]
  },
  {
   "cell_type": "code",
   "execution_count": null,
   "id": "908bbc18-9daf-4fc8-b5f8-87953653bf93",
   "metadata": {},
   "outputs": [],
   "source": [
    "import os"
   ]
  },
  {
   "cell_type": "code",
   "execution_count": null,
   "id": "f87c48dc-6afc-47ea-a2e1-a3a0e66305df",
   "metadata": {},
   "outputs": [],
   "source": [
    "import xarray as xr"
   ]
  },
  {
   "cell_type": "code",
   "execution_count": null,
   "id": "65e23f7d-6203-4f84-9252-22271493501f",
   "metadata": {},
   "outputs": [],
   "source": [
    "import numpy as np"
   ]
  },
  {
   "cell_type": "code",
   "execution_count": null,
   "id": "8d8ac1c7-358c-4d2a-a537-8c59c37546e9",
   "metadata": {},
   "outputs": [],
   "source": [
    "import matplotlib.pyplot as plt\n",
    "\n",
    "import cmocean.cm as cm\n",
    "\n",
    "import cartopy\n",
    "\n",
    "import cartopy.crs as ccrs\n",
    "import cartopy.feature as cfeature"
   ]
  },
  {
   "cell_type": "code",
   "execution_count": null,
   "id": "4daa0ca4-4fa2-485a-8a69-384b28170377",
   "metadata": {},
   "outputs": [],
   "source": [
    "import datetime"
   ]
  },
  {
   "cell_type": "markdown",
   "id": "d4482af4-ed28-4baf-927b-c7ab5dc8b657",
   "metadata": {},
   "source": [
    "Some parameter variables:"
   ]
  },
  {
   "cell_type": "code",
   "execution_count": null,
   "id": "22400773-efaf-4462-886c-44309a0070fe",
   "metadata": {},
   "outputs": [],
   "source": [
    "path_to_zarr = \"./\" # Where you unpacked the dataset.\n",
    "fields_zarr_archive = \"radclim-analogs-median.zarr\"\n",
    "analogs_zarr_archive = \"precipitation-analogs.zarr\""
   ]
  },
  {
   "cell_type": "markdown",
   "id": "2a00297a-1b0a-445a-953b-939fbe823f9b",
   "metadata": {},
   "source": [
    "Loading the RADCLIM Median Zarr archive"
   ]
  },
  {
   "cell_type": "code",
   "execution_count": null,
   "id": "a3a887a4-4b13-4bd6-a05c-df5ffc889673",
   "metadata": {},
   "outputs": [],
   "source": [
    "ds = xr.open_zarr(os.path.join(path_to_zarr, fields_zarr_archive))"
   ]
  },
  {
   "cell_type": "code",
   "execution_count": null,
   "id": "5188a504-46cc-4a00-8b2b-875a38fb5ddf",
   "metadata": {},
   "outputs": [],
   "source": [
    "ds"
   ]
  },
  {
   "cell_type": "markdown",
   "id": "9a0f31ba-6c14-4263-b532-c54073a607e9",
   "metadata": {},
   "source": [
    "Loading the Analogues database"
   ]
  },
  {
   "cell_type": "code",
   "execution_count": null,
   "id": "c5b5f921-1394-4e48-b98a-12ec1e25e839",
   "metadata": {},
   "outputs": [],
   "source": [
    "analogs_ds = xr.open_zarr(os.path.join(path_to_zarr, analogs_zarr_archive))"
   ]
  },
  {
   "cell_type": "code",
   "execution_count": null,
   "id": "349db8ab-8e0b-4f87-bddd-aba21deaae87",
   "metadata": {},
   "outputs": [],
   "source": [
    "analogs_ds"
   ]
  },
  {
   "cell_type": "markdown",
   "id": "26830985-6f39-433a-9142-53c9c85c7472",
   "metadata": {},
   "source": [
    "### Usage example\n",
    "\n",
    "Determining the analogues of the 14th of July 2010, and plotting the median field:"
   ]
  },
  {
   "cell_type": "code",
   "execution_count": null,
   "id": "3c132d55-0e18-4847-a2e9-cf2c1e343a6b",
   "metadata": {},
   "outputs": [],
   "source": [
    "analogs = analogs_ds.sel(day='2010-07-14')"
   ]
  },
  {
   "cell_type": "code",
   "execution_count": null,
   "id": "bfc7ed26-273b-41be-8df0-a56ea3ca9c12",
   "metadata": {},
   "outputs": [],
   "source": [
    "analogs.analog_dates.to_numpy()"
   ]
  },
  {
   "cell_type": "markdown",
   "id": "9b009f7c-47f9-4770-b2d1-c5d8dd6c4d68",
   "metadata": {},
   "source": [
    "Plotting daily accumulation (sum) of the median of the analogues for that day:"
   ]
  },
  {
   "cell_type": "code",
   "execution_count": null,
   "id": "bbb96d5a-a1fc-4e80-9410-6fa514411713",
   "metadata": {},
   "outputs": [],
   "source": [
    "proj = ccrs.PlateCarree()\n",
    "fig, ax = plt.subplots(1, 1, subplot_kw={'projection': proj},figsize=(14,8),)\n",
    "isodate = '2010-07-14'\n",
    "levels = np.linspace(0., 1., 11) \n",
    "\n",
    "#  finding all the hourly fields for the 14 July 2020\n",
    "almostaday = np.timedelta64(23, 'h') + np.timedelta64(59, 'm')\n",
    "dss = ds.sel(time=slice(np.datetime64(isodate), np.datetime64(isodate)+almostaday))\n",
    "\n",
    "# plotting the sum\n",
    "im = ax.contourf(dss.longitude, dss.latitude, dss.tp_median.sum(dim='time'), cmap=cm.rain, \n",
    "                 levels=levels, extend='max')\n",
    "cbar = fig.colorbar(im, ax=ax, ticks=levels, label='Precipitation Median [mm]')\n",
    "\n",
    "time_str = str(dss.time[0].to_numpy()).split('T')[0]\n",
    "ax.set_title('Date: '+time_str)\n",
    "ax.set_extent([2.5, 6.5, 49., 52.])\n",
    "ax.coastlines(resolution='50m')\n",
    "ax.add_feature(cfeature.BORDERS, linestyle=':')\n",
    "ax.gridlines(draw_labels={\"bottom\": \"x\", \"left\": \"y\"}, );\n"
   ]
  },
  {
   "cell_type": "markdown",
   "id": "d698074e-b6f2-4331-971c-9f9839517755",
   "metadata": {},
   "source": [
    "The end."
   ]
  }
 ],
 "metadata": {
  "kernelspec": {
   "display_name": "Python 3 (ipykernel)",
   "language": "python",
   "name": "python3"
  },
  "language_info": {
   "codemirror_mode": {
    "name": "ipython",
    "version": 3
   },
   "file_extension": ".py",
   "mimetype": "text/x-python",
   "name": "python",
   "nbconvert_exporter": "python",
   "pygments_lexer": "ipython3",
   "version": "3.10.13"
  }
 },
 "nbformat": 4,
 "nbformat_minor": 5
}
