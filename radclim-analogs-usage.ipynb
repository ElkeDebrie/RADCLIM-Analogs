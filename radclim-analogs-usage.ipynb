{
 "cells": [
  {
   "cell_type": "markdown",
   "id": "68c9020f-a609-4932-a5e3-1d1a22c90ae6",
   "metadata": {},
   "source": [
    "# Finding analogues in the RADCLIM Zarr archive"
   ]
  },
  {
   "cell_type": "markdown",
   "id": "49b8f531-e4ae-4482-b3e7-69dc25672590",
   "metadata": {},
   "source": [
    "### Abstract"
   ]
  },
  {
   "cell_type": "markdown",
   "id": "22eb330a-d24d-4d72-831e-abeabdff9aed",
   "metadata": {},
   "source": [
    "This notebook describes how to find the analogues for a given date between the 1st January 1940 and the 31th December 2006 in the **RADCLIM-Analogs** dataset. \n",
    "\n",
    "This dataset provides maps at 1 km resolution of the hourly accumulated precipitation over Belgium from 1940 to 2016. We used the analog technique to provide for every day in the past (1940 – 2016) the 25 best analogs selected from the high resolution RMI RADCLIM radar database that is available from 2017 to 2022.\n",
    "\n",
    "This notebook is provide as supplementary material for the article:\n",
    "\n",
    "* Debrie, E., Demaeyer, J., and Vannitsem, S.: Hourly precipitation series over Belgium based on the Analogue Technique, Earth Syst. Sci. Data Discuss. [preprint], doi:, in review, 2025.\n",
    "\n",
    "Before running this notebook, the dataset must first be downloaded from the Zenodo platform (https://zenodo.org/records/14712408) and installed following the installation instruction.\n",
    "\n",
    "\n",
    "\n"
   ]
  },
  {
   "cell_type": "markdown",
   "id": "33ff0fce-8a7a-44dd-94da-1c3a4e63d5cc",
   "metadata": {},
   "source": [
    "### Goal of the present notebook"
   ]
  },
  {
   "cell_type": "markdown",
   "id": "b00cbd09-e9c5-415d-9f8c-984e042a150c",
   "metadata": {},
   "source": [
    "In the present notebook, we are going to load analogues from the dataset for a given date, linking a database of analogue dates and the RADCLIM data.\n"
   ]
  },
  {
   "cell_type": "markdown",
   "id": "95dc82d9-1e87-4454-89d9-4af3ab0a1b17",
   "metadata": {},
   "source": [
    "### Code"
   ]
  },
  {
   "cell_type": "markdown",
   "id": "625446c6-93c7-4d07-8b30-fbd43197a538",
   "metadata": {},
   "source": [
    "Imports"
   ]
  },
  {
   "cell_type": "code",
   "execution_count": null,
   "id": "908bbc18-9daf-4fc8-b5f8-87953653bf93",
   "metadata": {},
   "outputs": [],
   "source": [
    "import os"
   ]
  },
  {
   "cell_type": "code",
   "execution_count": null,
   "id": "f87c48dc-6afc-47ea-a2e1-a3a0e66305df",
   "metadata": {},
   "outputs": [],
   "source": [
    "import xarray as xr"
   ]
  },
  {
   "cell_type": "code",
   "execution_count": null,
   "id": "65e23f7d-6203-4f84-9252-22271493501f",
   "metadata": {},
   "outputs": [],
   "source": [
    "import numpy as np"
   ]
  },
  {
   "cell_type": "code",
   "execution_count": null,
   "id": "8d8ac1c7-358c-4d2a-a537-8c59c37546e9",
   "metadata": {},
   "outputs": [],
   "source": [
    "import matplotlib.pyplot as plt\n",
    "\n",
    "import cmocean.cm as cm\n",
    "\n",
    "import cartopy\n",
    "\n",
    "import cartopy.crs as ccrs\n",
    "import cartopy.feature as cfeature"
   ]
  },
  {
   "cell_type": "code",
   "execution_count": null,
   "id": "4daa0ca4-4fa2-485a-8a69-384b28170377",
   "metadata": {},
   "outputs": [],
   "source": [
    "import datetime"
   ]
  },
  {
   "cell_type": "markdown",
   "id": "d4482af4-ed28-4baf-927b-c7ab5dc8b657",
   "metadata": {},
   "source": [
    "Some parameter variables:"
   ]
  },
  {
   "cell_type": "code",
   "execution_count": null,
   "id": "22400773-efaf-4462-886c-44309a0070fe",
   "metadata": {},
   "outputs": [],
   "source": [
    "path_to_zarr = \"./\" # Where you unpacked the dataset.\n",
    "fields_zarr_archive = \"radclim.zarr\"\n",
    "analogs_zarr_archive = \"precipitation-analogs.zarr\""
   ]
  },
  {
   "cell_type": "markdown",
   "id": "2a00297a-1b0a-445a-953b-939fbe823f9b",
   "metadata": {},
   "source": [
    "Loading the RADCLIM Zarr archive"
   ]
  },
  {
   "cell_type": "code",
   "execution_count": null,
   "id": "a3a887a4-4b13-4bd6-a05c-df5ffc889673",
   "metadata": {},
   "outputs": [],
   "source": [
    "ds = xr.open_zarr(os.path.join(path_to_zarr, zarr_archive_name))"
   ]
  },
  {
   "cell_type": "code",
   "execution_count": null,
   "id": "5188a504-46cc-4a00-8b2b-875a38fb5ddf",
   "metadata": {},
   "outputs": [],
   "source": [
    "ds"
   ]
  },
  {
   "cell_type": "markdown",
   "id": "9a0f31ba-6c14-4263-b532-c54073a607e9",
   "metadata": {},
   "source": [
    "Loading the Analogs database"
   ]
  },
  {
   "cell_type": "code",
   "execution_count": null,
   "id": "c5b5f921-1394-4e48-b98a-12ec1e25e839",
   "metadata": {},
   "outputs": [],
   "source": [
    "analogs_ds = xr.open_zarr(os.path.join(path_to_zarr, analogs_zarr_archive))"
   ]
  },
  {
   "cell_type": "code",
   "execution_count": null,
   "id": "349db8ab-8e0b-4f87-bddd-aba21deaae87",
   "metadata": {},
   "outputs": [],
   "source": [
    "analogs_ds"
   ]
  },
  {
   "cell_type": "markdown",
   "id": "3119e7f2-2ec3-47bc-9fb7-de3769ffcb74",
   "metadata": {},
   "source": [
    "Defining a function that find the analogue fields based on a provided date"
   ]
  },
  {
   "cell_type": "code",
   "execution_count": null,
   "id": "e9357f29-ea4d-45af-bc70-089bbab105ed",
   "metadata": {},
   "outputs": [],
   "source": [
    "def find_analogue_fields(isodate, numbers=None):\n",
    "    \"\"\"\n",
    "    A function to find in the RADCLIM data the hourly-accumulated analogue fields for the provided date.\n",
    "\n",
    "    Parameters\n",
    "    ----------\n",
    "    isodate: str\n",
    "        The date for which the analogue fields must be returned, in the iso format: YYYY-MM-DD. Should be between 1940 and 2016 (included).\n",
    "    numbers: list or None\n",
    "        The number of the analogue fields to be returned, as a list. Should be a list of non-repeating numbers between 1 and 25.\n",
    "        If `None`, return the full list of the 25 analogues.\n",
    "\n",
    "    Returns\n",
    "    -------\n",
    "    dict(xarray.Dataset)\n",
    "        The hourly-accumulated analogue fields for the asked selection of the analogue for the provided input date.\n",
    "    \"\"\"\n",
    "    analog_dates = analogs_ds.analog_dates.sel(day=isodate) # get the list of analogue dates in the database\n",
    "    almostaday = np.timedelta64(23, 'h') + np.timedelta64(59, 'm') # defined a timedelta of almost 24 hrs to selected all the fields of the day\n",
    "\n",
    "    # if numbers was not provided, take all the analogues\n",
    "    if numbers is None:\n",
    "        numbers = list(range(1, len(analog_dates)+1))\n",
    "\n",
    "    # get the analogues and put them in a dictionnary\n",
    "    out_ds = dict()\n",
    "    for n, date in zip(numbers, analog_dates.sel(number=numbers)):\n",
    "        out_ds[n] = ds.sel(time=slice(date, date + almostaday))\n",
    "\n",
    "    return out_ds\n",
    "        "
   ]
  },
  {
   "cell_type": "markdown",
   "id": "26830985-6f39-433a-9142-53c9c85c7472",
   "metadata": {},
   "source": [
    "**Usage example:** Loading the first 4 analogs of the 14th of July 2010."
   ]
  },
  {
   "cell_type": "code",
   "execution_count": null,
   "id": "3c132d55-0e18-4847-a2e9-cf2c1e343a6b",
   "metadata": {},
   "outputs": [],
   "source": [
    "analogs = find_analogue_fields('2010-07-14', numbers=[1,2,3,4])"
   ]
  },
  {
   "cell_type": "markdown",
   "id": "84eb15c8-aa3b-49ad-813d-65505ab0467c",
   "metadata": {},
   "source": [
    "Xarray Dataset of the first analogue"
   ]
  },
  {
   "cell_type": "code",
   "execution_count": null,
   "id": "fbe39b31-c048-44b6-a1a0-d6728529f49d",
   "metadata": {},
   "outputs": [],
   "source": [
    "analogs[1]"
   ]
  },
  {
   "cell_type": "markdown",
   "id": "9b009f7c-47f9-4770-b2d1-c5d8dd6c4d68",
   "metadata": {},
   "source": [
    "Plotting the daily accumulation (sum) of the 4 first analogues"
   ]
  },
  {
   "cell_type": "code",
   "execution_count": null,
   "id": "bbb96d5a-a1fc-4e80-9410-6fa514411713",
   "metadata": {},
   "outputs": [],
   "source": [
    "proj = ccrs.PlateCarree()\n",
    "fig, axs = plt.subplots(2, 2, subplot_kw={'projection': proj},figsize=(14,8),)\n",
    "axls = axs.flatten()\n",
    "levels = np.linspace(0., 100., 201)\n",
    "\n",
    "for i, n in enumerate(analogs):\n",
    "    dss = analogs[n]\n",
    "    ax = axls[i]\n",
    "    im = ax.contourf(dss.longitude, dss.latitude, dss.tp.sum(dim='time'), transform=proj, levels=levels, cmap=cm.rain, extend='max')\n",
    "    fig.colorbar(im, ax=ax)\n",
    "    time_str = str(dss.time[0].to_numpy()).split('T')[0]\n",
    "    ax.set_title(f'Analog {n}: {time_str}')\n",
    "    ax.set_extent([2.5, 6.5, 49., 52.])\n",
    "    ax.coastlines(resolution='50m')\n",
    "    ax.add_feature(cfeature.BORDERS, linestyle=':')\n",
    "    ax.gridlines(draw_labels={\"bottom\": \"x\", \"left\": \"y\"}, )\n",
    "\n",
    "plt.tight_layout() "
   ]
  },
  {
   "cell_type": "markdown",
   "id": "d698074e-b6f2-4331-971c-9f9839517755",
   "metadata": {},
   "source": [
    "The end."
   ]
  }
 ],
 "metadata": {
  "kernelspec": {
   "display_name": "Python 3 (ipykernel)",
   "language": "python",
   "name": "python3"
  },
  "language_info": {
   "codemirror_mode": {
    "name": "ipython",
    "version": 3
   },
   "file_extension": ".py",
   "mimetype": "text/x-python",
   "name": "python",
   "nbconvert_exporter": "python",
   "pygments_lexer": "ipython3",
   "version": "3.10.13"
  }
 },
 "nbformat": 4,
 "nbformat_minor": 5
}
